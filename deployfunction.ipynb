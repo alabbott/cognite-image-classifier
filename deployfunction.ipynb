{
 "cells": [
  {
   "cell_type": "code",
   "execution_count": 1,
   "metadata": {},
   "outputs": [],
   "source": [
    "import os\n",
    "from dotenv import load_dotenv\n",
    "from cognite.client import CogniteClient, ClientConfig\n",
    "from cognite.client.credentials import OAuthClientCredentials\n",
    "\n",
    "# Load the values from the .env file\n",
    "load_dotenv()\n",
    "\n",
    "# Get all environment variables\n",
    "env_vars = os.environ\n",
    "\n",
    "project_name = os.getenv(\"COGNITE_PROJECT\")\n",
    "mqtt_broker = os.getenv(\"MQTT_BROKER\")\n",
    "mqtt_port = int(os.getenv(\"MQTT_PORT\", 1883))\n",
    "\n",
    "prefix_name = os.getenv(\"NAMING_NAME\")\n",
    "prefix_project = os.getenv(\"NAMING_PROJECT\")"
   ]
  },
  {
   "cell_type": "code",
   "execution_count": 2,
   "metadata": {},
   "outputs": [],
   "source": [
    "oauth_provider = OAuthClientCredentials(\n",
    "    token_url=os.getenv(\"TOKEN_URL\"),\n",
    "    client_id=os.getenv(\"GM_CLIENT_ID\"),\n",
    "    client_secret=os.getenv(\"GM_CLIENT_SECRET\"),\n",
    "    scopes=[os.getenv(\"SCOPES\")],\n",
    "    # Any additional IDP-specific token args. e.g.\n",
    "    # audience=\"some-audience\"\n",
    ")\n",
    "\n",
    "clientConfig = ClientConfig(\n",
    "    client_name=os.getenv(\"CLIENT_NAME\"),\n",
    "    project=project_name,\n",
    "    credentials=oauth_provider,\n",
    "    base_url=os.getenv(\"BASE_URL\"),\n",
    "    debug=False,\n",
    ")\n",
    "\n",
    "client = CogniteClient(clientConfig)"
   ]
  },
  {
   "cell_type": "code",
   "execution_count": 5,
   "metadata": {},
   "outputs": [],
   "source": [
    "client.functions.delete(func.id)"
   ]
  },
  {
   "cell_type": "code",
   "execution_count": 7,
   "metadata": {},
   "outputs": [],
   "source": [
    "func = client.functions.create(\n",
    "    name=\"beverage-classifier\",\n",
    "    external_id=\"beverage-classifier\",\n",
    "    folder=\"function\",\n",
    "    runtime=\"py39\"\n",
    ")"
   ]
  }
 ],
 "metadata": {
  "kernelspec": {
   "display_name": ".venv",
   "language": "python",
   "name": "python3"
  },
  "language_info": {
   "codemirror_mode": {
    "name": "ipython",
    "version": 3
   },
   "file_extension": ".py",
   "mimetype": "text/x-python",
   "name": "python",
   "nbconvert_exporter": "python",
   "pygments_lexer": "ipython3",
   "version": "3.9.16"
  },
  "orig_nbformat": 4
 },
 "nbformat": 4,
 "nbformat_minor": 2
}
