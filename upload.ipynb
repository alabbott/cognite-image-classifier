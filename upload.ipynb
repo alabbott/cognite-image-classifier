{
 "cells": [
  {
   "cell_type": "code",
   "execution_count": null,
   "metadata": {},
   "outputs": [],
   "source": [
    "import os\n",
    "from dotenv import load_dotenv\n",
    "from cognite.client import CogniteClient, ClientConfig\n",
    "from cognite.client.credentials import OAuthClientCredentials\n",
    "\n",
    "# Load the values from the .env file\n",
    "load_dotenv()\n",
    "\n",
    "# Get all environment variables\n",
    "env_vars = os.environ\n",
    "\n",
    "project_name = os.getenv(\"COGNITE_PROJECT\")\n",
    "mqtt_broker = os.getenv(\"MQTT_BROKER\")\n",
    "mqtt_port = int(os.getenv(\"MQTT_PORT\", 1883))\n",
    "\n",
    "prefix_name = os.getenv(\"NAMING_NAME\")\n",
    "prefix_project = os.getenv(\"NAMING_PROJECT\")"
   ]
  },
  {
   "cell_type": "code",
   "execution_count": null,
   "metadata": {},
   "outputs": [],
   "source": [
    "oauth_provider = OAuthClientCredentials(\n",
    "    token_url=os.getenv(\"TOKEN_URL\"),\n",
    "    client_id=os.getenv(\"GM_CLIENT_ID\"),\n",
    "    client_secret=os.getenv(\"GM_CLIENT_SECRET\"),\n",
    "    scopes=[os.getenv(\"SCOPES\")],\n",
    "    # Any additional IDP-specific token args. e.g.\n",
    "    # audience=\"some-audience\"\n",
    ")\n",
    "\n",
    "clientConfig = ClientConfig(\n",
    "    client_name=os.getenv(\"CLIENT_NAME\"),\n",
    "    project=project_name,\n",
    "    credentials=oauth_provider,\n",
    "    base_url=os.getenv(\"BASE_URL\"),\n",
    "    debug=False,\n",
    ")\n",
    "\n",
    "client = CogniteClient(clientConfig)"
   ]
  },
  {
   "cell_type": "code",
   "execution_count": null,
   "metadata": {},
   "outputs": [],
   "source": [
    "from duckduckgo_search import ddg_images\n",
    "from fastdownload import download_url\n",
    "from fastcore.all import *\n",
    "from fastai.vision.all import *\n",
    "from contextlib import contextmanager\n",
    "import pathlib\n",
    "\n",
    "def search_images(term, max_images=30):\n",
    "    print(f\"Searching for '{term}'\")\n",
    "    return L(ddg_images(term, max_results=max_images)).itemgot('image')"
   ]
  },
  {
   "cell_type": "code",
   "execution_count": null,
   "metadata": {},
   "outputs": [],
   "source": [
    "term = \"coffee\"\n",
    "file_path = Path(str('images/'+term+'.jpg'))\n",
    "file_name = term+'.jpg'\n",
    "\n",
    "download_url(search_images('images/'+term+' photos', max_images=1)[0], 'images/'+term+'.jpg', show_progress=True)\n",
    "Image.open('images/'+term+'.jpg').to_thumb(256,256)"
   ]
  },
  {
   "cell_type": "code",
   "execution_count": null,
   "metadata": {},
   "outputs": [],
   "source": [
    "from cognite.client.data_classes.files import FileMetadata\n",
    "\n",
    "# Create FileMetadata object with the specified metadata\n",
    "metadata = {\n",
    "    \"classify\": \"true\"\n",
    "}\n",
    "\n",
    "# Upload a new file\n",
    "with open(file_path, \"rb\") as f:\n",
    "    uploaded_file = client.files.upload(file_path, name=file_name, metadata=metadata)\n",
    "\n",
    "print(uploaded_file)\n"
   ]
  },
  {
   "cell_type": "code",
   "execution_count": null,
   "metadata": {},
   "outputs": [],
   "source": [
    "@contextmanager\n",
    "def set_posix_windows():\n",
    "    posix_backup = pathlib.PosixPath\n",
    "    try:\n",
    "        pathlib.PosixPath = pathlib.WindowsPath\n",
    "        yield\n",
    "    finally:\n",
    "        pathlib.PosixPath = posix_backup"
   ]
  },
  {
   "cell_type": "code",
   "execution_count": null,
   "metadata": {},
   "outputs": [],
   "source": [
    "model_path = pathlib.Path('models/model.pkl')\n",
    "\n",
    "with set_posix_windows():\n",
    "    learn = load_learner(model_path)"
   ]
  },
  {
   "cell_type": "code",
   "execution_count": 24,
   "metadata": {},
   "outputs": [
    {
     "name": "stdout",
     "output_type": "stream",
     "text": [
      "Updated metadata: {'beverage': 'beer', 'classify': 'true'}\n"
     ]
    },
    {
     "name": "stdout",
     "output_type": "stream",
     "text": [
      "Updated metadata: {'beverage': 'coffee', 'classify': 'true'}\n"
     ]
    }
   ],
   "source": [
    "from cognite.client.data_classes import FileMetadataUpdate\n",
    "\n",
    "# Define the metadata filter\n",
    "metadata_filter = {\n",
    "    \"classify\": \"true\"\n",
    "}\n",
    "\n",
    "# Retrieve files with the specified metadata filter\n",
    "files_with_classify_true = client.files.list(metadata=metadata_filter)\n",
    "\n",
    "# Print the file names and IDs\n",
    "for file in files_with_classify_true:\n",
    "    file_metadata = client.files.retrieve(id=file.id)\n",
    "    file_content = client.files.download_bytes(id=file.id)\n",
    "\n",
    "    download_path = \"fromcdf/\"+file_metadata.name\n",
    "\n",
    "    with open(download_path, \"wb\") as f:\n",
    "        f.write(file_content)\n",
    "\n",
    "    type_of_beverage,_,probs = learn.predict(download_path)\n",
    "\n",
    "    # Define the new metadata\n",
    "    new_metadata = {\n",
    "        \"beverage\": type_of_beverage  # Add a new metadata key-value pair\n",
    "    }\n",
    "\n",
    "    my_update = FileMetadataUpdate(id=file.id).metadata.add({\"beverage\": type_of_beverage})\n",
    "\n",
    "    # Update the file with the new metadata\n",
    "    updated_file = client.files.update(my_update)\n",
    "\n",
    "    # Print the updated file metadata\n",
    "    print(\"Updated metadata:\", updated_file.metadata)\n",
    "\n",
    "    os.remove(download_path)\n",
    "\n",
    "\n",
    "  "
   ]
  },
  {
   "cell_type": "code",
   "execution_count": null,
   "metadata": {},
   "outputs": [],
   "source": []
  }
 ],
 "metadata": {
  "kernelspec": {
   "display_name": ".venv",
   "language": "python",
   "name": "python3"
  },
  "language_info": {
   "codemirror_mode": {
    "name": "ipython",
    "version": 3
   },
   "file_extension": ".py",
   "mimetype": "text/x-python",
   "name": "python",
   "nbconvert_exporter": "python",
   "pygments_lexer": "ipython3",
   "version": "3.9.16"
  },
  "orig_nbformat": 4
 },
 "nbformat": 4,
 "nbformat_minor": 2
}
